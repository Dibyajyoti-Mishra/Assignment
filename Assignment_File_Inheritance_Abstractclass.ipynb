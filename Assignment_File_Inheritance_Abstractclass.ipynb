{
 "cells": [
  {
   "cell_type": "markdown",
   "id": "4adc4aa7",
   "metadata": {},
   "source": [
    "# Read and Replace specific field in Python"
   ]
  },
  {
   "cell_type": "code",
   "execution_count": null,
   "id": "a1cedcd4",
   "metadata": {},
   "outputs": [],
   "source": [
    "import fileinput\n",
    "import os\n",
    "\n",
    "Dir = input (\"Source directory: \")\n",
    "os.chdir(Dir)\n",
    "\n",
    "Filelist = os.listdir()\n",
    "print('File list: ',Filelist)\n",
    "\n",
    "NomeFile = input (\"Insert file name: \")\n",
    "\n",
    "CarOr = input (\"Text to search: \")\n",
    "\n",
    "CarNew = input (\"New text: \")\n",
    "\n",
    "with fileinput.FileInput(NomeFile, inplace=True, backup='.bak') as file:\n",
    "    for line in file:\n",
    "        print(line.replace(CarOr, CarNew), end='')\n",
    "\n",
    "file.close ()"
   ]
  },
  {
   "cell_type": "markdown",
   "id": "ad074df8",
   "metadata": {},
   "source": [
    "# Multiple Inheritance"
   ]
  },
  {
   "cell_type": "code",
   "execution_count": null,
   "id": "693793cd",
   "metadata": {},
   "outputs": [],
   "source": [
    "class A:\n",
    "    def __init__(self,a):\n",
    "        self.a = a\n",
    "        print(\"Inside Class A\")\n",
    "    def summation(self):\n",
    "        print(self.a+self.b)\n",
    "    def multiplication(self):\n",
    "        print(self.a*self.b)\n",
    "\n",
    "class B:\n",
    "    def __init__(self,b):\n",
    "        self.b = b\n",
    "        print(\"Inside Class B\")\n",
    "    def subtraction(self):\n",
    "        print(self.b - self.c)\n",
    "    def multiplication(self):\n",
    "        print(self.b*self.c)\n",
    "\n",
    "#Multiple Inheritence\n",
    "class AB(A,B):\n",
    "    def __init__(self,a,b,c):\n",
    "        self.c = c\n",
    "        A.__init__(self,a)\n",
    "        B.__init__(self,b)\n",
    "#Using Super\n",
    "        super().__init__(a)\n",
    "        \n",
    "obj = AB(11,14,19)\n",
    "obj.summation()\n",
    "obj.subtraction()\n",
    "obj.multiplication()\n"
   ]
  },
  {
   "cell_type": "markdown",
   "id": "75367f5c",
   "metadata": {},
   "source": [
    "# Abstract Class"
   ]
  },
  {
   "cell_type": "code",
   "execution_count": null,
   "id": "81250470",
   "metadata": {},
   "outputs": [],
   "source": [
    "from abc import ABC,abstarctmethod\n",
    "\n",
    "Class Shape(ABC):\n",
    "    @abstarctmethod\n",
    "    def sides(self):\n",
    "        pass\n",
    "    \n",
    "class Triangle(shape):\n",
    "    def sides(self):\n",
    "        print(\"A triangle has 3 sides\")\n",
    "\n",
    "   \n",
    "class Rectangle(shape):\n",
    "    def sides(self):\n",
    "        print(\"A Rectangle has 4 sides\")  \n",
    "\n",
    "class Hexagon(shape):\n",
    "    def sides(self):\n",
    "        print(\"A Hexagon has 6 sides\") \n",
    "objt = Triangle()\n",
    "objt.sides()\n",
    "\n",
    "objr = Rectangle()\n",
    "objr.sides()\n",
    "\n",
    "objh = Hexagon()\n",
    "objh.sides()"
   ]
  }
 ],
 "metadata": {
  "kernelspec": {
   "display_name": "Python 3 (ipykernel)",
   "language": "python",
   "name": "python3"
  },
  "language_info": {
   "codemirror_mode": {
    "name": "ipython",
    "version": 3
   },
   "file_extension": ".py",
   "mimetype": "text/x-python",
   "name": "python",
   "nbconvert_exporter": "python",
   "pygments_lexer": "ipython3",
   "version": "3.9.7"
  }
 },
 "nbformat": 4,
 "nbformat_minor": 5
}
